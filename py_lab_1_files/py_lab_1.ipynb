{
 "cells": [
  {
   "cell_type": "markdown",
   "metadata": {},
   "source": [
    "---\n",
    "title: \"Лабораторна робота №1. Інсталяція та налаштування Python-середовища\"\n",
    "description:\n",
    "  Документ зроблено за допомогою [Quarto](https://quarto.org/)\n",
    "author: \"&copy; [Nikita Savchuk](https://www.linkedin.com/in/valeriy-sydorenko-6782279a/), 2023\"\n",
    "date: \"09.05.2023\"\n",
    "lang: ukr\n",
    "format:\n",
    "  html:\n",
    "    code-fold: true\n",
    "    toc: true # меню\n",
    "    toc_float: # спливаюче меню  \n",
    "      collapsed: true # авто\n",
    "      number_sections: true\n",
    "jupyter: python3\n",
    "---"
   ]
  },
  {
   "cell_type": "markdown",
   "metadata": {},
   "source": [
    "__Мета:__ _quick start для роботи з python3 у середовищі IDE PyCharm системою контроля версій git._"
   ]
  },
  {
   "cell_type": "markdown",
   "metadata": {},
   "source": [
    "::: callout-note\n",
    "## Примітка\n",
    "Перед виконанням лабораторної роботи необхідно опрацювати матеріал __Лекції 1__.\n",
    ":::"
   ]
  },
  {
   "cell_type": "markdown",
   "metadata": {},
   "source": [
    "#### Що ви будете вміти?\n",
    "* Інсталювати дистрибутив Python.\n",
    "* Інсталювати та налаштовувати IDE PyCharm.\n",
    "* Створювати Python-проєкт у PyCharm та зв'язувати його з СКВ git.\n",
    "* Писати і відлагоджувати прості програми на python у середовищі PyCharm.\n",
    "* Комітити написаний код у віддалений репозиторій на на GitHub"
   ]
  },
  {
   "cell_type": "markdown",
   "metadata": {},
   "source": [
    "## Завдання для самостіної роботи\n",
    "\n",
    "1. Завантажити і встановити `Python`.\n",
    "\n",
    "1. Завантажити, встановити і налаштувати IDE PyCharm у відповідності з інструкціями, описаними вище\n",
    "\n",
    "1. Завантажити, встановити і налаштувати систему контроля версій Git на вашому робочому комп'ютері.\n",
    "\n",
    "1. Створити акаунт на GitHub та стоврити в ньому новий проєкт з іменем \n",
    "__StudentLastName_project__. \n",
    "\n",
    "1. Налаштувати зв'язок PyCharm з Git.\n",
    "\n",
    "1. Налаштувати зв'язок PyCharm з віддаленим репозиторієм на GitHub.\n",
    "\n",
    "1. Створити файл __lab_1_StudentLastName.py__ з кодом, який виводить фразу __\"Привіт, Ваше Прізвище\"__.\n",
    "\n",
    "1. Закомітити файл у локальний репозиторій.\n",
    "\n",
    "1. Відправити (\"запушити\") поточну версію Git-проєкта у віддалений репозиторій на GitHub.\n",
    "\n",
    "1. Звіт має складатися з файлу (за основу взяти __цей Python-зошит__) з відповідними скріншотами `lab_1_StudentLastName.ipynb`. У звіті має бути посилання на Ваш GitHub-репозиторій з Вашим проєктом та відповіді на контролі запитання. "
   ]
  },
  {
   "cell_type": "code",
   "execution_count": null,
   "metadata": {},
   "outputs": [],
   "source": [
    "print(\"Привіт, Савчук\")"
   ]
  },
  {
   "attachments": {
    "4c9b7d02-71c3-4a29-b39d-77cb7262a757.png": {
     "image/png": "[encoded data removed]"
    }
   },
   "cell_type": "markdown",
   "metadata": {},
   "source": [
    "![](attachment:4c9b7d02-71c3-4a29-b39d-77cb7262a757.png)"
   ]
  },
  {
   "cell_type": "markdown",
   "metadata": {},
   "source": [
    "## Контрольні запитання\n",
    "\n",
    "1. У чому відмінність інтерпретатора від компілятора? Python -- компілятор чи інтерпретатор?\n",
    "\n",
    "1. Що таке IDE PyCharm?\n",
    "\n",
    "1. Що таке система контроля версій (СКВ) і для чого вона призначена? У чому принципова відмінність СКВ SVN та GIT?\n",
    "\n",
    "1. Що відбувається при виконанні команди `git add .`?\n",
    "\n",
    "1. Що відбувається при виконанні команди `git commit`?\n",
    "\n",
    "1. Якою Git-командою виконується розміщення локальної копії Git-репозиторію проєкта на віддаленому, що знаходиться на GitHub?"
   ]
  },
  {
   "cell_type": "markdown",
   "metadata": {},
   "source": [
    "## References"
   ]
  },
  {
   "cell_type": "markdown",
   "metadata": {},
   "source": [
    "1. [Anaconda (Python distribution)](https://uk.wikipedia.org/wiki/Anaconda_(Python_distribution))\n",
    "2. [Conda](https://conda.io/en/latest/)\n",
    "3. [Pro Git Book](https://git-scm.com/book/en/v2)\n",
    "4. [OpenEDG Python Institute](https://pythoninstitute.org/)\n",
    "5. [Cisco. Networking Academy](https://www.netacad.com/) \n",
    "6. [ЧТО ТАКОЕ ЯП PYTHON? УСТАНОВКА ПАЙТОНА НА WINDOWS 11 !](https://www.youtube.com/watch?v=nQMddf_6KoM&list=PLV0FNhq3XMOKljD7POtuWVAZn8wXcn4-L)\n",
    "1. [Научно-издательская система Quarto](https://data-visualization-blog.netlify.app/posts/quarto/)\n",
    "1. [The Python Standard Library](https://docs.python.org/3/library/index.html)\n",
    "1. [Callout Blocks. Markdown Syntax](https://quarto.org/docs/authoring/callouts.html)  "
   ]
  }
 ],
 "metadata": {
  "kernelspec": {
   "display_name": "Python 3 (ipykernel)",
   "language": "python",
   "name": "python3"
  },
  "language_info": {
   "codemirror_mode": {
    "name": "ipython",
    "version": 3
   },
   "file_extension": ".py",
   "mimetype": "text/x-python",
   "name": "python",
   "nbconvert_exporter": "python",
   "pygments_lexer": "ipython3",
   "version": "3.11.4"
  },
  "widgets": {
   "application/vnd.jupyter.widget-state+json": {
    "state": {},
    "version_major": 2,
    "version_minor": 0
   }
  }
 },
 "nbformat": 4,
 "nbformat_minor": 4
}
